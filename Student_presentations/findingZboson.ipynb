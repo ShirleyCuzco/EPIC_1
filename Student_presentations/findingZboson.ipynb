{
  "nbformat": 4,
  "nbformat_minor": 0,
  "metadata": {
    "colab": {
      "name": "findingZboson.ipynb",
      "provenance": [],
      "collapsed_sections": []
    },
    "kernelspec": {
      "name": "python3",
      "display_name": "Python 3"
    },
    "language_info": {
      "name": "python"
    }
  },
  "cells": [
    {
      "cell_type": "code",
      "metadata": {
        "colab": {
          "base_uri": "https://localhost:8080/"
        },
        "id": "uI9fR163lXlD",
        "outputId": "521a8fe7-5a80-4bca-dfac-ea74c476300b"
      },
      "source": [
        "!pip install uproot3"
      ],
      "execution_count": null,
      "outputs": [
        {
          "output_type": "stream",
          "name": "stdout",
          "text": [
            "Collecting uproot3\n",
            "  Downloading uproot3-3.14.4-py3-none-any.whl (117 kB)\n",
            "\u001b[?25l\r\u001b[K     |██▉                             | 10 kB 24.0 MB/s eta 0:00:01\r\u001b[K     |█████▋                          | 20 kB 29.3 MB/s eta 0:00:01\r\u001b[K     |████████▍                       | 30 kB 12.7 MB/s eta 0:00:01\r\u001b[K     |███████████▏                    | 40 kB 9.6 MB/s eta 0:00:01\r\u001b[K     |██████████████                  | 51 kB 4.5 MB/s eta 0:00:01\r\u001b[K     |████████████████▊               | 61 kB 5.2 MB/s eta 0:00:01\r\u001b[K     |███████████████████▌            | 71 kB 5.4 MB/s eta 0:00:01\r\u001b[K     |██████████████████████▎         | 81 kB 6.0 MB/s eta 0:00:01\r\u001b[K     |█████████████████████████       | 92 kB 4.7 MB/s eta 0:00:01\r\u001b[K     |███████████████████████████▉    | 102 kB 5.0 MB/s eta 0:00:01\r\u001b[K     |██████████████████████████████▊ | 112 kB 5.0 MB/s eta 0:00:01\r\u001b[K     |████████████████████████████████| 117 kB 5.0 MB/s \n",
            "\u001b[?25hRequirement already satisfied: numpy>=1.13.1 in /usr/local/lib/python3.7/dist-packages (from uproot3) (1.19.5)\n",
            "Collecting awkward0\n",
            "  Downloading awkward0-0.15.5-py3-none-any.whl (87 kB)\n",
            "\u001b[K     |████████████████████████████████| 87 kB 5.8 MB/s \n",
            "\u001b[?25hRequirement already satisfied: cachetools in /usr/local/lib/python3.7/dist-packages (from uproot3) (4.2.4)\n",
            "Collecting uproot3-methods\n",
            "  Downloading uproot3_methods-0.10.1-py3-none-any.whl (32 kB)\n",
            "Installing collected packages: awkward0, uproot3-methods, uproot3\n",
            "Successfully installed awkward0-0.15.5 uproot3-3.14.4 uproot3-methods-0.10.1\n"
          ]
        }
      ]
    },
    {
      "cell_type": "code",
      "metadata": {
        "id": "v6WemtJJfjmx"
      },
      "source": [
        "import urllib.request # for downloading files\n",
        "import pandas as pd # to store data as dataframes\n",
        "import numpy as np # for numerical calculations such as histogramming\n",
        "import uproot3 # to read .root files as dataframes\n",
        "import matplotlib.pyplot as plt # for plotting"
      ],
      "execution_count": null,
      "outputs": []
    },
    {
      "cell_type": "code",
      "metadata": {
        "colab": {
          "base_uri": "https://localhost:8080/"
        },
        "id": "PaowVSuNfnh8",
        "outputId": "ed961e06-90dc-47eb-c32d-48a13ff2a657"
      },
      "source": [
        "filename = 'data_A.exactly2lep.root'\n",
        "url = 'https://atlas-opendata.web.cern.ch/atlas-opendata/samples/2020/exactly2lep/Data/'+filename\n",
        "urllib.request.urlretrieve(url, filename)"
      ],
      "execution_count": null,
      "outputs": [
        {
          "output_type": "execute_result",
          "data": {
            "text/plain": [
              "('data_A.exactly2lep.root', <http.client.HTTPMessage at 0x7fb96f435190>)"
            ]
          },
          "metadata": {},
          "execution_count": 4
        }
      ]
    },
    {
      "cell_type": "code",
      "metadata": {
        "colab": {
          "base_uri": "https://localhost:8080/"
        },
        "id": "T6rMPDTQtkww",
        "outputId": "92b31fa9-bd0c-450d-fb35-a89b3b1ebb07"
      },
      "source": [
        "print (data.lep_E[0])"
      ],
      "execution_count": null,
      "outputs": [
        {
          "output_type": "stream",
          "name": "stdout",
          "text": [
            "[147913.47   21271.793]\n"
          ]
        }
      ]
    },
    {
      "cell_type": "code",
      "metadata": {
        "colab": {
          "base_uri": "https://localhost:8080/"
        },
        "id": "cwYgrlVSuVkC",
        "outputId": "92ae9052-6ba1-4503-f9c2-847d98c3f58e"
      },
      "source": [
        "varA = data.lep_pt[0]*np.cos(data.lep_phi[0])\n",
        "print (varA)"
      ],
      "execution_count": null,
      "outputs": [
        {
          "output_type": "stream",
          "name": "stdout",
          "text": [
            "[ 32387.074 -18771.791]\n"
          ]
        }
      ]
    },
    {
      "cell_type": "code",
      "metadata": {
        "id": "PRtGwDTRfrwK"
      },
      "source": [
        "def calc_mll(lep_pt,lep_eta,lep_phi,lep_E): # lepton pt,eta,phi,energy\n",
        "    \n",
        "    # 0th lepton is [0], next lepton is [1] etc\n",
        "    # get the energy of 0th lepton by lep_E[0]\n",
        "\n",
        "    # sumE = sum of energy\n",
        "    sumE = lep_E[0] + lep_E[1]\n",
        "    \n",
        "    # sumpx = sum of x-momenta\n",
        "    sumpx = lep_pt[0]*np.cos(lep_phi[0]) + lep_pt[1]*np.cos(lep_phi[1])\n",
        "    \n",
        "    # sumpy = sum of y-momenta\n",
        "    sumpy = lep_pt[0]*np.sin(lep_phi[0]) + lep_pt[1]*np.sin(lep_phi[1]) \n",
        "    \n",
        "    # sumpz = sum of z-momenta\n",
        "    sumpz = lep_pt[0]*np.sinh(lep_eta[0]) + lep_pt[1]*np.sinh(lep_eta[1])\n",
        "    \n",
        "    # sump = magnitude of total momentum vector. Remember it's a vector!\n",
        "    sump = np.sqrt(sumpx**2 + sumpy**2 + sumpz**2)\n",
        "    \n",
        "    # Mll = invariant mass from M^2 = E^2 - p^2\n",
        "    Mll = np.sqrt(sumE**2 - sump**2)\n",
        "\n",
        "    return Mll/1000 # divide by 1000 to go from MeV to GeV"
      ],
      "execution_count": null,
      "outputs": []
    },
    {
      "cell_type": "code",
      "metadata": {
        "colab": {
          "base_uri": "https://localhost:8080/"
        },
        "id": "1pXXeaEam5MB",
        "outputId": "a5d72162-5dbf-4794-8aa1-99abcf95e962"
      },
      "source": [
        "data_all = pd.DataFrame() # define empty pandas DataFrame to hold all data for this sample\n",
        "tree = uproot3.open(filename)[\"mini\"] # open the tree called mini\n",
        "numevents = uproot3.numentries(filename, \"mini\") # number of events\n",
        "\n",
        "for data in tree.iterate(['lep_pt','lep_eta','lep_phi','lep_E'], \n",
        "                         outputtype=pd.DataFrame, # choose output type as pandas DataFrame\n",
        "                         entrystop=numevents*0.001): # stop after fraction of events we want to process\n",
        "\n",
        "    # calculation of 2-lepton invariant mass                                                                                                                                      \n",
        "    data['mll'] = np.vectorize(calc_mll)(data.lep_pt, data.lep_eta, data.lep_phi, data.lep_E)\n",
        "\n",
        "    data_all = data_all.append(data) # append dataframe from this batch to the dataframe for the whole sample\n",
        "print (data_all)\n"
      ],
      "execution_count": null,
      "outputs": [
        {
          "output_type": "stream",
          "name": "stdout",
          "text": [
            "                       lep_pt  ...        mll\n",
            "entry                          ...           \n",
            "0        [33144.9, 21067.385]  ...  92.150043\n",
            "1      [42871.246, 37205.387]  ...  89.282450\n",
            "2      [33070.188, 29222.084]  ...  88.274741\n",
            "3       [28597.91, 19120.684]  ...  46.788296\n",
            "4       [49459.63, 35819.855]  ...  91.529038\n",
            "...                       ...  ...        ...\n",
            "659    [52029.715, 33379.133]  ...  84.688580\n",
            "660     [83593.78, 23400.945]  ...  88.040910\n",
            "661    [48671.914, 43170.777]  ...  89.594341\n",
            "662    [41093.906, 39788.887]  ...  89.651872\n",
            "663    [33252.035, 11883.924]  ...  20.402977\n",
            "\n",
            "[664 rows x 5 columns]\n"
          ]
        }
      ]
    },
    {
      "cell_type": "code",
      "metadata": {
        "colab": {
          "base_uri": "https://localhost:8080/",
          "height": 279
        },
        "id": "_1KgmUgtm91B",
        "outputId": "69c49d74-971a-48e1-8d5f-5cc3219bfb74"
      },
      "source": [
        "bin_edges = np.arange(start=35, # The interval includes this value\n",
        "                      stop=110, # The interval doesn't include this value\n",
        "                      step=5 ) # Spacing between values\n",
        "bin_centres = (bin_edges[:-1] + bin_edges[1:]) / 2 # central values of each bin\n",
        "\n",
        "# histogram the data\n",
        "data_x,_ = np.histogram(data_all['mll'], bins=bin_edges ) \n",
        "\n",
        "# statistical error on the data\n",
        "data_x_errors = np.sqrt(data_x)\n",
        "\n",
        "# plot the data points\n",
        "plt.errorbar(x=bin_centres, \n",
        "                   y=data_x, \n",
        "                   yerr=data_x_errors,\n",
        "                   fmt='ko' ) # 'k' means black and 'o' is for circles\n",
        "\n",
        "# x-axis label\n",
        "plt.xlabel('Mll [GeV]')\n",
        "\n",
        "# y-axis label\n",
        "plt.ylabel('Events')\n",
        "\n",
        "# make the y-axis log scale\n",
        "plt.yscale('log')"
      ],
      "execution_count": null,
      "outputs": [
        {
          "output_type": "display_data",
          "data": {
            "image/png": "[encoded data removed]",
            "text/plain": [
              "<Figure size 432x288 with 1 Axes>"
            ]
          },
          "metadata": {
            "needs_background": "light"
          }
        }
      ]
    },
    {
      "cell_type": "code",
      "metadata": {
        "id": "me1uunizvdny"
      },
      "source": [
        ""
      ],
      "execution_count": null,
      "outputs": []
    }
  ]
}